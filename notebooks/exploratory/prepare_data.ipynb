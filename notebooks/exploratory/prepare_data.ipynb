{
 "cells": [
  {
   "cell_type": "code",
   "execution_count": null,
   "metadata": {
    "collapsed": true
   },
   "outputs": [],
   "source": [
    "%matplotlib inline\n",
    "import pandas as pd\n",
    "import numpy as np\n",
    "import os\n",
    "import matplotlib.pyplot as plt\n",
    "import seaborn as sns\n",
    "from IPython.core.interactiveshell import InteractiveShell\n",
    "from IPython.display import display\n",
    "import progressbar\n",
    "\n",
    "# pd.options.display.max_columns = None\n",
    "# InteractiveShell.ast_node_interactivity = \"all\"\n",
    "\n",
    "# raw_path = '/home/jevgenji/Dropbox/Projects/MScProject-Kepler-ML/data/raw'\n",
    "# processed_path = '/home/jevgenji/Dropbox/Projects/MScProject-Kepler-ML/data/processed'\n",
    "\n",
    "# tce_table = pd.read_csv(os.path.join(raw_path, 'tcetable.csv'))\n",
    "# koi_table = pd.read_csv(os.path.join(raw_path, 'cumulative.csv'))\n",
    "# som_table = pd.read_table(os.path.join(raw_path,'Table2_Kepler.txt'), delimiter=',')\n",
    "# fpp_table = pd.read_csv(os.path.join(raw_path, 'koifpp.csv'))\n",
    "# som_table.columns = ['kepid', 'Theta1', 'Theta2 ']"
   ]
  },
  {
   "cell_type": "markdown",
   "metadata": {},
   "source": [
    "# Create a common koi_planet name code for all tables"
   ]
  },
  {
   "cell_type": "markdown",
   "metadata": {},
   "source": [
    "### tce_table"
   ]
  },
  {
   "cell_type": "code",
   "execution_count": null,
   "metadata": {
    "collapsed": true
   },
   "outputs": [],
   "source": [
    "kepid_plnt = []\n",
    "for i, tce_plnt_num in enumerate(tce_table.tce_plnt_num.values):\n",
    "    num = str(tce_plnt_num)\n",
    "    if len(num) < 2:\n",
    "        num = '0' + num\n",
    "    kepid_plnt.append(str(tce_table.kepid.values[i]) + '.' + num)\n",
    "tce_table['kepid_plnt'] = kepid_plnt"
   ]
  },
  {
   "cell_type": "code",
   "execution_count": null,
   "metadata": {
    "collapsed": true
   },
   "outputs": [],
   "source": [
    "display(tce_table[['kepid_plnt', 'kepid', 'tce_plnt_num']].head())\n",
    "tce_table.shape"
   ]
  },
  {
   "cell_type": "markdown",
   "metadata": {},
   "source": [
    "# koi_table"
   ]
  },
  {
   "cell_type": "code",
   "execution_count": null,
   "metadata": {
    "collapsed": true
   },
   "outputs": [],
   "source": [
    "pixel_based_names = ['koi_fwm_stat_sig', 'koi_fwm_sra', 'koi_fwm_sra_err', 'koi_fwm_sdec', 'koi_fwm_sdec_err', 'koi_fwm_srao', 'koi_fwm_srao_err', 'koi_fwm_sdeco', 'koi_fwm_sdeco_err', 'koi_fwm_prao', 'koi_fwm_prao_err', 'koi_fwm_pdeco', 'koi_fwm_pdeco_err', 'koi_dicco_mra', 'koi_dicco_mra_err', 'koi_dicco_mdec', 'koi_dicco_mdec_err', 'koi_dicco_msky', 'koi_dicco_msky_err', \\\n",
    "                     'koi_dicco_fra', 'koi_dicco_fra_err', 'koi_dicco_fdec', 'koi_dicco_fdec_err', 'koi_dicco_fsky', 'koi_dicco_fsky_err', 'koi_dikco_mra', 'koi_dikco_mra_err', 'koi_dikco_mdec', 'koi_dikco_mdec_err', 'koi_dikco_msky', 'koi_dikco_msky_err', 'koi_dikco_fra', 'koi_dikco_fra_err', 'koi_dikco_fdec', 'koi_dikco_fdec_err', 'koi_dikco_fsky', 'koi_dikco_fsky_err']"
   ]
  },
  {
   "cell_type": "code",
   "execution_count": null,
   "metadata": {
    "collapsed": true
   },
   "outputs": [],
   "source": [
    "kepid_plnt = []\n",
    "for i, kepoi_name in enumerate(koi_table['kepoi_name'].values):\n",
    "    kepid_plnt.append(str(koi_table.kepid.values[i]) + '.' + kepoi_name[-2:])\n",
    "    \n",
    "koi_table['kepid_plnt'] = kepid_plnt\n",
    "display_list = ['kepid_plnt', 'kepid', 'kepoi_name', 'koi_disposition'] + pixel_based_names"
   ]
  },
  {
   "cell_type": "code",
   "execution_count": null,
   "metadata": {
    "collapsed": true
   },
   "outputs": [],
   "source": [
    "display(koi_table[display_list].head())\n",
    "koi_table.shape"
   ]
  },
  {
   "cell_type": "markdown",
   "metadata": {},
   "source": [
    "# fpp_table"
   ]
  },
  {
   "cell_type": "code",
   "execution_count": null,
   "metadata": {
    "collapsed": true
   },
   "outputs": [],
   "source": [
    "display(fpp_table.head(3))"
   ]
  },
  {
   "cell_type": "code",
   "execution_count": null,
   "metadata": {
    "collapsed": true
   },
   "outputs": [],
   "source": [
    "kepid_plnt = []\n",
    "for i, kepoi_name in enumerate(fpp_table['kepoi_name'].values):\n",
    "    kepid_plnt.append(str(fpp_table.kepid.values[i]) + '.' + kepoi_name[-2:])\n",
    "    \n",
    "fpp_table['kepid_plnt'] = kepid_plnt\n",
    "fpp_table = fpp_table[['kepid_plnt', 'fpp_prob', 'fpp_score', 'fpp_spec_occrate']]\n",
    "display(fpp_table.head(3))\n",
    "fpp_table.shape"
   ]
  },
  {
   "cell_type": "markdown",
   "metadata": {},
   "source": [
    "### Missing values in fpp_table"
   ]
  },
  {
   "cell_type": "code",
   "execution_count": null,
   "metadata": {
    "collapsed": true
   },
   "outputs": [],
   "source": [
    "print(fpp_table.isnull().values.sum(axis=0))"
   ]
  },
  {
   "cell_type": "code",
   "execution_count": null,
   "metadata": {
    "collapsed": true
   },
   "outputs": [],
   "source": [
    "fpp_table = fpp_table.dropna(axis=0)\n",
    "fpp_table.shape"
   ]
  },
  {
   "cell_type": "markdown",
   "metadata": {
    "collapsed": true
   },
   "source": [
    "# Link koi_table and tce_table into target_data table"
   ]
  },
  {
   "cell_type": "code",
   "execution_count": null,
   "metadata": {
    "collapsed": true
   },
   "outputs": [],
   "source": [
    "target_data = pd.merge(koi_table[['kepid_plnt', 'koi_disposition']+pixel_based_names], tce_table, on='kepid_plnt')\n",
    "del target_data['rowid']"
   ]
  },
  {
   "cell_type": "code",
   "execution_count": null,
   "metadata": {
    "collapsed": true
   },
   "outputs": [],
   "source": [
    "for key, value in target_data.dtypes.to_dict().items():\n",
    "    if key not in ['kepid_pnlt', 'koi_disposition', 'koi_pdisposition', 'kepid_plnt'] and value == np.dtype('O'):\n",
    "        target_data.drop(key, axis=1, inplace=True)"
   ]
  },
  {
   "cell_type": "code",
   "execution_count": null,
   "metadata": {
    "collapsed": true
   },
   "outputs": [],
   "source": [
    "target_data.shape"
   ]
  },
  {
   "cell_type": "code",
   "execution_count": null,
   "metadata": {
    "collapsed": true
   },
   "outputs": [],
   "source": [
    "autovetter_stuff = ['av_vf_pc', 'av_vf_afp', 'av_vf_ntp', 'av_vf_afp_err', 'av_vf_ntp_err',\n",
    "                    'av_pp_pc', 'av_pp_afp', 'av_pp_ntp', 'av_training_set', 'av_pred_class', 'av_vf_pc_err']\n",
    "\n",
    "# Pixel based statistics are missing, try redownloading with errors\n",
    "zeros = ['tce_eccen', 'tce_longp', 'tce_nkoi'] \n",
    "\n",
    "nans = ['tce_ioflag', 'tcet_period',\n",
    " 'tcet_time0bk',\n",
    " 'tcet_time0',\n",
    " 'tcet_duration',\n",
    " 'tcet_ingress',\n",
    " 'tcet_depth']\n",
    "\n",
    "other_questionable_things = ['tce_quarters', 'tce_rb_tcount1', 'tce_dicco_fra_err', 'tce_dicco_fdec_err',\n",
    "                             'tcet_time0_err', 'tce_plnt_num', 'tce_eccen_err', 'tce_dikco_fra', 'tce_dikco_fdec',\n",
    "                             'tce_dikco_fsky', 'tce_dicco_fra', 'tce_dicco_fdec', 'tce_dicco_fsky',\n",
    "                            'tce_rb_tcount2', 'tce_rb_tcount3', 'tce_rb_tcount4', 'tcet_period_err', 'tce_longp_err',\n",
    "                            'tcet_time0bk_err', 'tcet_duration_err', 'tcet_ingress_err', 'tcet_depth_err',\n",
    "                            'tce_dicco_fsky_err', 'tce_dikco_fra_err', 'tce_dikco_fdec_err', 'tce_dikco_fsky_err']\n"
   ]
  },
  {
   "cell_type": "code",
   "execution_count": null,
   "metadata": {
    "collapsed": true
   },
   "outputs": [],
   "source": [
    "all_drops = autovetter_stuff + zeros + nans + other_questionable_things\n",
    "target_data.drop(all_drops, axis=1, inplace=True)"
   ]
  },
  {
   "cell_type": "code",
   "execution_count": null,
   "metadata": {
    "collapsed": true,
    "scrolled": true
   },
   "outputs": [],
   "source": [
    "target_data.shape"
   ]
  },
  {
   "cell_type": "markdown",
   "metadata": {},
   "source": [
    "# Take care of som_table"
   ]
  },
  {
   "cell_type": "code",
   "execution_count": null,
   "metadata": {
    "collapsed": true
   },
   "outputs": [],
   "source": [
    "display(som_table.head(3))\n",
    "som_table.shape\n",
    "print('Unique: {}'.format(len(np.unique(som_table.kepid.values.astype(np.int)))))"
   ]
  },
  {
   "cell_type": "markdown",
   "metadata": {},
   "source": [
    "#### Drop Duplicates"
   ]
  },
  {
   "cell_type": "code",
   "execution_count": null,
   "metadata": {
    "collapsed": true
   },
   "outputs": [],
   "source": [
    "som_table.drop_duplicates(inplace=True, subset='kepid')"
   ]
  },
  {
   "cell_type": "code",
   "execution_count": null,
   "metadata": {
    "collapsed": true
   },
   "outputs": [],
   "source": [
    "som_table.shape"
   ]
  },
  {
   "cell_type": "markdown",
   "metadata": {},
   "source": [
    "### Add som features, see how big the data would be then"
   ]
  },
  {
   "cell_type": "code",
   "execution_count": null,
   "metadata": {
    "collapsed": true
   },
   "outputs": [],
   "source": [
    "target_data_test = pd.merge(target_data, som_table, on='kepid')"
   ]
  },
  {
   "cell_type": "code",
   "execution_count": null,
   "metadata": {
    "collapsed": true
   },
   "outputs": [],
   "source": [
    "# target_data.drop_duplicates(subset='kepid_pnlt', inplace=True)\n",
    "target_data_test.shape"
   ]
  },
  {
   "cell_type": "code",
   "execution_count": null,
   "metadata": {
    "collapsed": true
   },
   "outputs": [],
   "source": [
    "print(np.sum(target_data_test.duplicated('kepid_plnt')))"
   ]
  },
  {
   "cell_type": "markdown",
   "metadata": {},
   "source": [
    "# Check how big is the intersection betwee target_data_test,which is with som and fpp_table based on kepid_plnt"
   ]
  },
  {
   "cell_type": "code",
   "execution_count": null,
   "metadata": {
    "collapsed": true
   },
   "outputs": [],
   "source": [
    "intersection = pd.merge(target_data_test, fpp_table, how='inner', on='kepid_plnt')\n",
    "intersection.shape"
   ]
  },
  {
   "cell_type": "markdown",
   "metadata": {},
   "source": [
    "### How many fp and confirmed"
   ]
  },
  {
   "cell_type": "code",
   "execution_count": null,
   "metadata": {
    "collapsed": true
   },
   "outputs": [],
   "source": [
    "intersection.koi_disposition.value_counts()"
   ]
  },
  {
   "cell_type": "code",
   "execution_count": null,
   "metadata": {
    "collapsed": true
   },
   "outputs": [],
   "source": [
    "2238+1810"
   ]
  },
  {
   "cell_type": "markdown",
   "metadata": {},
   "source": [
    "# From this intersection lets get fpp_table and target_data table based on target_data_test column names, and fpp_table column names"
   ]
  },
  {
   "cell_type": "code",
   "execution_count": null,
   "metadata": {
    "collapsed": true
   },
   "outputs": [],
   "source": [
    "target_data = intersection[list(target_data.columns) + ['Theta1']]\n",
    "display(target_data.head(3))\n",
    "target_data.shape"
   ]
  },
  {
   "cell_type": "code",
   "execution_count": null,
   "metadata": {
    "collapsed": true
   },
   "outputs": [],
   "source": [
    "fpp_table = intersection[fpp_table.columns]\n",
    "display(fpp_table.head(3))\n",
    "fpp_table.shape"
   ]
  },
  {
   "cell_type": "markdown",
   "metadata": {},
   "source": [
    "# Save fpp_table"
   ]
  },
  {
   "cell_type": "code",
   "execution_count": null,
   "metadata": {
    "collapsed": true
   },
   "outputs": [],
   "source": [
    "fpp_table.to_csv(os.path.join(processed_path,'fppTableReady.csv'), index=False, index_label=False)"
   ]
  },
  {
   "cell_type": "markdown",
   "metadata": {},
   "source": [
    "# Max ephemeris function"
   ]
  },
  {
   "cell_type": "code",
   "execution_count": null,
   "metadata": {
    "collapsed": true
   },
   "outputs": [],
   "source": [
    "koi_list = target_data.kepid.values.tolist()\n",
    "max_corr = []\n",
    "bar = progressbar.ProgressBar(max_value=target_data.shape[0])\n",
    "for index, row in target_data.iterrows():\n",
    "    local_corrs = []\n",
    "    current_kepid = row['kepid']\n",
    "    \n",
    "    orbital_period1 = int(row['tce_period']*1440)\n",
    "    transit_duration1 = int((row['tce_duration']*60)/2) # get on both sides, since its on center\n",
    "    transit_epoch1 = int(row['tce_time0bk']*1440) # get in minutes\n",
    "    \n",
    "    array1 = np.zeros(2141280)\n",
    "\n",
    "    # populate the array\n",
    "    for i in range(transit_epoch1, 2141280, orbital_period1):\n",
    "        array1[i-transit_duration1:i+transit_duration1] = 1\n",
    "        \n",
    "    # check if orbital period is less than the first transit\n",
    "    if transit_epoch1/orbital_period1 > 1:\n",
    "        for i in range(transit_epoch1, 0, -orbital_period1):\n",
    "            array1[i-transit_duration1:i+transit_duration1] = 1\n",
    "\n",
    "    # search for other TCE on the same star\n",
    "    indexes = [i for i, val in enumerate(koi_list) if val == current_kepid]\n",
    "    \n",
    "    # test if the only TCE on that star\n",
    "    if len(indexes) == 1:\n",
    "        # if so then the value is zero\n",
    "        max_corr.append(0)\n",
    "    else:\n",
    "        for i in indexes:            \n",
    "            orbital_period2 = int(target_data.iloc[[i]]['tce_period']*1440)\n",
    "            transit_duration2 = int((target_data.iloc[[i]]['tce_duration']*60)/2)\n",
    "            transit_epoch2 = int(target_data.iloc[[i]]['tce_time0bk']*1440) # questionable, which one to use\n",
    "\n",
    "            array2 = np.zeros(2141280)\n",
    "            \n",
    "            for i in range(transit_epoch2, 2141280, orbital_period2):\n",
    "                array2[i-transit_duration2:i+transit_duration2] = 1\n",
    "                \n",
    "            if transit_epoch1/orbital_period1 > 1:\n",
    "                for i in range(transit_epoch1, 0, -orbital_period1):\n",
    "                    array1[i-transit_duration1:i+transit_duration1] = 1\n",
    "\n",
    "            p = np.dot((array1)/np.sqrt(np.sum(array1)), (array2)/np.sqrt(np.sum(array2)))\n",
    "\n",
    "            local_corrs.append(p)\n",
    "        \n",
    "        local_corrs = np.array(local_corrs)\n",
    "        max_corr.append(np.max(local_corrs))\n",
    "    bar.update(index)\n",
    "#     if index == 5:\n",
    "#         break"
   ]
  },
  {
   "cell_type": "code",
   "execution_count": null,
   "metadata": {
    "collapsed": true
   },
   "outputs": [],
   "source": [
    "target_data['max_ephemeris_corr'] = max_corr"
   ]
  },
  {
   "cell_type": "code",
   "execution_count": null,
   "metadata": {
    "collapsed": true
   },
   "outputs": [],
   "source": [
    "target_data.shape"
   ]
  },
  {
   "cell_type": "code",
   "execution_count": null,
   "metadata": {
    "collapsed": true
   },
   "outputs": [],
   "source": [
    "fig=plt.figure(figsize=(17,10));\n",
    "target_data.hist(column=\"max_ephemeris_corr\", bins=100);\n",
    "plt.xlabel(\"corr\",fontsize=15);\n",
    "plt.ylabel(\"Frequency\",fontsize=15);\n",
    "plt.xlim([0.0,1.0]);\n",
    "# plt.savefig('max_ephemerics_corr_hist.png', dpi=1000);"
   ]
  },
  {
   "cell_type": "code",
   "execution_count": null,
   "metadata": {
    "collapsed": true
   },
   "outputs": [],
   "source": [
    "target_data.isnull().values.sum(axis=0)\n",
    "nan_cols = np.where(target_data.isnull().values.sum(axis=0) == 1)[0]\n",
    "[target_data.columns[i] for i in nan_cols]"
   ]
  },
  {
   "cell_type": "code",
   "execution_count": null,
   "metadata": {
    "collapsed": true
   },
   "outputs": [],
   "source": [
    "target_data.koi_disposition.value_counts()"
   ]
  },
  {
   "cell_type": "code",
   "execution_count": null,
   "metadata": {
    "collapsed": true
   },
   "outputs": [],
   "source": [
    "display(target_data.head(3))"
   ]
  },
  {
   "cell_type": "code",
   "execution_count": null,
   "metadata": {
    "collapsed": true
   },
   "outputs": [],
   "source": [
    "to_save = target_data[['kepid_plnt','koi_disposition','max_ephemeris_corr', \n",
    "                     'wst_robstat', 'tce_cap_stat', 'tce_hap_stat', 'koi_fwm_stat_sig', 'tce_rminmes',\n",
    "                     'tce_max_mult_ev', 'tce_albedo_stat', 'tce_period', 'tce_prad', 'tce_model_snr']]"
   ]
  },
  {
   "cell_type": "code",
   "execution_count": null,
   "metadata": {
    "collapsed": true
   },
   "outputs": [],
   "source": [
    "to_save.to_csv('for_SNR.csv',  sep=',', index_label=False, index=False)"
   ]
  },
  {
   "cell_type": "code",
   "execution_count": null,
   "metadata": {
    "collapsed": true
   },
   "outputs": [],
   "source": [
    "target_last = target_data[['kepid_plnt','koi_disposition','max_ephemeris_corr', \n",
    "                     'wst_robstat', 'tce_cap_stat', 'tce_hap_stat', 'koi_fwm_stat_sig', 'tce_rminmes',\n",
    "                     'tce_max_mult_ev', 'tce_albedo_stat', 'Theta1']]"
   ]
  },
  {
   "cell_type": "code",
   "execution_count": null,
   "metadata": {
    "collapsed": true
   },
   "outputs": [],
   "source": [
    "target_data = target_last\n",
    "target_data.shape"
   ]
  },
  {
   "cell_type": "code",
   "execution_count": null,
   "metadata": {
    "collapsed": true,
    "scrolled": false
   },
   "outputs": [],
   "source": [
    "from sklearn.preprocessing import MinMaxScaler as scaler\n",
    "scaled_df = pd.DataFrame()\n",
    "no_scaling = ['kepid_plnt', 'koi_disposition', 'koi_pdisposition', 'kepid']\n",
    "i = 0\n",
    "for col_name, series in target_data.iteritems():\n",
    "    \n",
    "    not_nans = ~pd.isnull(series.values)\n",
    "        \n",
    "    if col_name in no_scaling:\n",
    "        scaled_df[col_name] = target_data[col_name]\n",
    "        \n",
    "    elif np.sum(pd.isnull(series.values)) > 5000:\n",
    "        continue\n",
    "\n",
    "    else:\n",
    "        if np.max(series.values[not_nans]) > 1:\n",
    "            nans = np.sum(np.isnan(series.values))\n",
    "            if nans > 0:\n",
    "                s = series\n",
    "                scaled_df[col_name] = s.sub(s.min()).div((s.max() - s.min()))\n",
    "            else:\n",
    "                scaled_df[col_name] = scaler().fit_transform(X=series.values.reshape(-1, 1))\n",
    "        else:\n",
    "            scaled_df[col_name] = series.values\n",
    "            \n",
    "display(scaled_df.describe())\n",
    "scaled_df.shape"
   ]
  },
  {
   "cell_type": "code",
   "execution_count": null,
   "metadata": {
    "collapsed": true
   },
   "outputs": [],
   "source": [
    "scaled_df.to_csv(os.path.join(processed_path,'scaledMonJul31.csv'), sep=',')"
   ]
  },
  {
   "cell_type": "code",
   "execution_count": null,
   "metadata": {
    "collapsed": true
   },
   "outputs": [],
   "source": [
    "fp_conf_table = scaled_df.loc[scaled_df['koi_disposition'].isin(['CONFIRMED', 'FALSE POSITIVE'])]\n",
    "# fp_conf_table.drop(['kepid'], axis = 1, inplace=True)\n",
    "fp_conf_table.shape"
   ]
  },
  {
   "cell_type": "code",
   "execution_count": null,
   "metadata": {
    "collapsed": true
   },
   "outputs": [],
   "source": [
    "fp_conf_table.koi_disposition.value_counts()"
   ]
  },
  {
   "cell_type": "code",
   "execution_count": null,
   "metadata": {
    "collapsed": true
   },
   "outputs": [],
   "source": [
    "fp_conf_table.isnull().values.sum(axis=0)\n",
    "nan_cols = np.where(fp_conf_table.isnull().values.sum(axis=0) == 1)[0]\n",
    "fp_conf_table.shape"
   ]
  },
  {
   "cell_type": "markdown",
   "metadata": {},
   "source": [
    "# insert class conditional means and drop some of the data points"
   ]
  },
  {
   "cell_type": "code",
   "execution_count": null,
   "metadata": {
    "collapsed": true
   },
   "outputs": [],
   "source": [
    "fp_conf_table.columns"
   ]
  },
  {
   "cell_type": "code",
   "execution_count": null,
   "metadata": {
    "collapsed": true
   },
   "outputs": [],
   "source": [
    "for col_index, col in enumerate(fp_conf_table):\n",
    "    if fp_conf_table[col].dtype != 'object':\n",
    "        fp_conf_table[col].fillna(fp_conf_table.groupby(['koi_disposition'])[col].transform('mean'), inplace=True)\n",
    "    "
   ]
  },
  {
   "cell_type": "code",
   "execution_count": null,
   "metadata": {
    "collapsed": true
   },
   "outputs": [],
   "source": [
    "fp_conf_table.shape"
   ]
  },
  {
   "cell_type": "code",
   "execution_count": null,
   "metadata": {
    "collapsed": true
   },
   "outputs": [],
   "source": [
    "fp_conf_table.koi_disposition.value_counts()"
   ]
  },
  {
   "cell_type": "code",
   "execution_count": null,
   "metadata": {
    "collapsed": true
   },
   "outputs": [],
   "source": [
    "fp_conf_table.isnull().values.sum(axis=0)\n",
    "nan_cols = np.where(fp_conf_table.isnull().values.sum(axis=0) == 1)[0]\n",
    "fp_conf_table.shape"
   ]
  },
  {
   "cell_type": "code",
   "execution_count": null,
   "metadata": {
    "collapsed": true
   },
   "outputs": [],
   "source": [
    "fp_conf_table.to_csv(os.path.join(processed_path, 'fp_conf_tableMonJul31.csv'), sep=',', index=False, index_label=False)"
   ]
  },
  {
   "cell_type": "code",
   "execution_count": null,
   "metadata": {
    "collapsed": true
   },
   "outputs": [],
   "source": [
    "unlabeled.to_csv(os.path.join(processed_path, 'unlabeled_tableMonJul31.csv'), sep=',', index=False, index_label=False)"
   ]
  },
  {
   "cell_type": "markdown",
   "metadata": {
    "collapsed": true
   },
   "source": [
    "# Discriminative GPLVM"
   ]
  },
  {
   "cell_type": "code",
   "execution_count": null,
   "metadata": {
    "collapsed": true
   },
   "outputs": [],
   "source": [
    "from GPflow.model import GPModel\n",
    "import GPflow as GP\n",
    "import tensorflow as tf\n",
    "import numpy as np"
   ]
  },
  {
   "cell_type": "code",
   "execution_count": null,
   "metadata": {
    "collapsed": true
   },
   "outputs": [],
   "source": [
    "from sklearn import datasets\n",
    "iris = datasets.load_iris()\n",
    "Y = iris.data  # we only take the first two features.\n",
    "Y.shape\n",
    "target = iris.target"
   ]
  },
  {
   "cell_type": "code",
   "execution_count": null,
   "metadata": {
    "collapsed": true
   },
   "outputs": [],
   "source": [
    "Y, target = Y[(target == 0)| (target == 1), :], target[(target == 0) | (target == 1)]\n",
    "Y.shape"
   ]
  },
  {
   "cell_type": "code",
   "execution_count": null,
   "metadata": {
    "collapsed": true
   },
   "outputs": [],
   "source": [
    "import GPflow\n",
    "from GPflow import ekernels\n",
    "from GPflow import kernels\n",
    "from GPflow import densities\n",
    "from GPflow import settings\n",
    "from sklearn.covariance import empirical_covariance\n",
    "from numpy.linalg import inv\n",
    "import tensorflow as tf\n",
    "import numpy as np\n",
    "import matplotlib as mpl\n",
    "import matplotlib.pyplot as plt\n",
    "import matplotlib.cm as cm\n",
    "plt.style.use('ggplot')\n",
    "%matplotlib inline\n",
    "np.random.seed(42)\n",
    "GPflow.settings.numerics.quadrature = 'error' \n",
    "\n",
    "float_type = settings.dtypes.float_type\n",
    "np_float_type = np.float32 if float_type is tf.float32 else np.float64"
   ]
  },
  {
   "cell_type": "code",
   "execution_count": null,
   "metadata": {
    "collapsed": true
   },
   "outputs": [],
   "source": [
    "from sklearn.datasets import load_iris\n",
    "iris = load_iris()\n",
    "Y = iris.data\n",
    "my_target = iris.target\n",
    "Y.shape"
   ]
  },
  {
   "cell_type": "code",
   "execution_count": null,
   "metadata": {
    "collapsed": true
   },
   "outputs": [],
   "source": [
    "t1, t2 = 3, 9\n",
    "Y = Y[(my_target == t1) | (my_target == t2), :]\n",
    "my_target = my_target[(my_target == t1) | (my_target == t2)]\n",
    "print(Y.shape)\n",
    "print(my_target.shape)"
   ]
  },
  {
   "cell_type": "code",
   "execution_count": null,
   "metadata": {
    "collapsed": true
   },
   "outputs": [],
   "source": [
    "from keras.datasets import mnist\n",
    "\n",
    "(x_train, y_train), (x_test, y_test) = mnist.load_data()\n",
    "x_train.shape"
   ]
  },
  {
   "cell_type": "code",
   "execution_count": null,
   "metadata": {
    "collapsed": true
   },
   "outputs": [],
   "source": [
    "Y = x_train.astype(np.float64).reshape(60000, 784)\n",
    "my_target = y_train"
   ]
  },
  {
   "cell_type": "code",
   "execution_count": null,
   "metadata": {
    "collapsed": true
   },
   "outputs": [],
   "source": [
    "Y = Y[1:100]\n",
    "my_target = my_target[1:100]"
   ]
  },
  {
   "cell_type": "code",
   "execution_count": null,
   "metadata": {
    "collapsed": true
   },
   "outputs": [],
   "source": [
    "Y.dtype"
   ]
  },
  {
   "cell_type": "code",
   "execution_count": null,
   "metadata": {
    "collapsed": true
   },
   "outputs": [],
   "source": [
    "from numpy.lib.function_base import average\n",
    "\n",
    "class DiscriminativePrior(GPflow.priors.Prior):\n",
    "    \n",
    "    def __init__(self, mu, var, my_target, n_latent):\n",
    "        \n",
    "        GPflow.priors.Prior.__init__(self)\n",
    "        self.mu = np.atleast_1d(np.array(mu, np_float_type))\n",
    "        self.var = np.atleast_1d(np.array(var, np_float_type))\n",
    "        print(self.var.shape)\n",
    "        # Get global target \n",
    "        self.target = my_target\n",
    "        # Get number of classes \n",
    "        self.classes = np.unique(self.target)\n",
    "        # Number of latent dimensions\n",
    "        self.n_latent = n_latent\n",
    "        \n",
    "    def logp(self, x):\n",
    "        return tf.reduce_sum(densities.gaussian(self._jInv(x), self.mu, self.var))\n",
    "\n",
    "    def __str__(self):\n",
    "        return \"N(\"+str(self.mu) + \",\" + str(self.var) + \")\"\n",
    "    \n",
    "    def _jInv(self, x):\n",
    "        \"\"\"\n",
    "        Computes in-class and between class separability as in LDA\n",
    "        \"\"\"      \n",
    "        Sb = self._SbFunction(x)\n",
    "        \n",
    "        Sw = self._SwFunction(x)\n",
    "        \n",
    "        J_of_x = tf.trace( tf.matmul(tf.matrix_inverse(Sw), Sb) )\n",
    "        \n",
    "        return 1 / J_of_x\n",
    "    \n",
    "    @staticmethod\n",
    "    def _scatterTF(x):\n",
    "        \"\"\"\n",
    "        Computes covariance matrix for a given tensor\n",
    "        \"\"\"\n",
    "        N = x.get_shape()[1]\n",
    "        \n",
    "        # Substract mean\n",
    "        x -= tf.reduce_mean(x, 0, keep_dims=True)\n",
    "\n",
    "        # Make transpose\n",
    "        x_T = tf.transpose(x)\n",
    "\n",
    "        # Compute the scatter\n",
    "        return tf.matmul(x_T, x)\n",
    "        \n",
    "    def _SwFunction(self, x):\n",
    "        \"\"\"\n",
    "        Computes within-class scatter matrix Sw\n",
    "        \"\"\"\n",
    "        Sw = np.zeros((self.n_latent, self.n_latent))\n",
    "        \n",
    "        for cls in self.classes:\n",
    "            \n",
    "            indx = np.where(self.target == cls)\n",
    "            \n",
    "            Xg = tf.gather_nd(x, [[i] for i in indx[0]])\n",
    "            \n",
    "            Sw = tf.add(Sw, self._scatterTF(Xg))\n",
    "\n",
    "        return Sw\n",
    "    \n",
    "    def _SbFunction(self, x):\n",
    "        \"\"\"\n",
    "        Computes between class scatter matrix Sb\n",
    "        \"\"\"\n",
    "        global_means = tf.reduce_mean(x, 0, keep_dims=True)\n",
    "        \n",
    "        Sb = np.zeros((self.n_latent, self.n_latent))\n",
    "\n",
    "        # Iterate over classes \n",
    "        for cls in self.classes:\n",
    "            \n",
    "            # Get indicies according to target value i.e. which class\n",
    "            indx = np.where(self.target == cls)\n",
    "  \n",
    "            # Select the necessary rows given the indx above into a new tensor for that class\n",
    "            Xg = tf.gather_nd(x, [[i] for i in indx[0]])\n",
    "            \n",
    "            # Get N_i for the class\n",
    "            N_i = Xg.get_shape()[1]\n",
    "            \n",
    "            # Compute class means \n",
    "            class_means = tf.reduce_mean(x, 0, keep_dims=True)\n",
    "            \n",
    "            diff = tf.subtract(class_means, global_means)\n",
    "            \n",
    "            diff_T = tf.transpose(diff)\n",
    "            \n",
    "            matmul = tf.matmul(diff_T, diff)\n",
    "            \n",
    "            Sb = tf.add(Sb, matmul)\n",
    "        \n",
    "        return Sb\n",
    "    "
   ]
  },
  {
   "cell_type": "code",
   "execution_count": null,
   "metadata": {
    "collapsed": true
   },
   "outputs": [],
   "source": [
    "m = GPflow.gplvm.GPLVM(Y, latent_dim=2)"
   ]
  },
  {
   "cell_type": "code",
   "execution_count": null,
   "metadata": {
    "collapsed": true
   },
   "outputs": [],
   "source": [
    "m.X.prior = DiscriminativePrior(0, 1, my_target=my_target, n_latent=2)"
   ]
  },
  {
   "cell_type": "code",
   "execution_count": null,
   "metadata": {
    "collapsed": true,
    "scrolled": true
   },
   "outputs": [],
   "source": [
    "m.optimize()"
   ]
  },
  {
   "cell_type": "code",
   "execution_count": null,
   "metadata": {
    "collapsed": true
   },
   "outputs": [],
   "source": [
    "result = m.X.value\n",
    "result.shape"
   ]
  },
  {
   "cell_type": "code",
   "execution_count": null,
   "metadata": {
    "collapsed": true,
    "scrolled": false
   },
   "outputs": [],
   "source": [
    "plt.scatter(result[:,0], result[:,1], c=my_target)\n",
    "plt.show()"
   ]
  },
  {
   "cell_type": "markdown",
   "metadata": {
    "collapsed": true
   },
   "source": [
    "# Sort out wget file for light curves"
   ]
  },
  {
   "cell_type": "code",
   "execution_count": null,
   "metadata": {
    "collapsed": true
   },
   "outputs": [],
   "source": [
    "total_table = pd.read_csv(os.path.join(processed_path, 'fp_conf_tableMonJul31.csv'))\n",
    "unlabeled_table = pd.read_csv(os.path.join(processed_path, 'unlabeled_tableMonJul31.csv'))"
   ]
  },
  {
   "cell_type": "code",
   "execution_count": null,
   "metadata": {
    "collapsed": true
   },
   "outputs": [],
   "source": [
    "total_index = list(unlabeled_table.kepid_plnt.values.astype('str')) + list(total_table.kepid_plnt.values.astype('str'))\n",
    "len(total_index)"
   ]
  },
  {
   "cell_type": "code",
   "execution_count": null,
   "metadata": {
    "collapsed": true
   },
   "outputs": [],
   "source": [
    "print(total_index[:10])"
   ]
  },
  {
   "cell_type": "code",
   "execution_count": null,
   "metadata": {
    "collapsed": true
   },
   "outputs": [],
   "source": [
    "total_index_kepid = [string[:-3] for string in total_index]"
   ]
  },
  {
   "cell_type": "code",
   "execution_count": null,
   "metadata": {
    "collapsed": true
   },
   "outputs": [],
   "source": [
    "with open(os.path.join(raw_path, 'download_exoarch_6628.txt')) as f:\n",
    "          content = f.readlines()"
   ]
  },
  {
   "cell_type": "code",
   "execution_count": null,
   "metadata": {
    "collapsed": true
   },
   "outputs": [],
   "source": [
    "# for i in range(999,1110,2):\n",
    "#     print(content[i].split(\"kplr\")[1].split()[0][26:28])"
   ]
  },
  {
   "cell_type": "code",
   "execution_count": null,
   "metadata": {
    "collapsed": true
   },
   "outputs": [],
   "source": [
    "odd_to_save = []\n",
    "even_to_save = []\n",
    "kepids = []\n",
    "indexes = []\n",
    "for i in range(0, len(content), 2):\n",
    "\n",
    "    index = content[i].split(\"kplr\")[1].split()[0][:15].split('0',1)[1].split('-',1)[0]\n",
    "    # check if starts with zero, drop 0th string\n",
    "    if index[0] == '0':\n",
    "        index = index[1:]\n",
    "    kepid_plnt = index+'.'+content[i+1].split(\"kplr\")[1].split()[0][26:28]\n",
    "    kepids.append(kepid_plnt)\n",
    "    if kepid_plnt in total_index:\n",
    "#         print('\\n')\n",
    "#         print(i)\n",
    "#         print(index)\n",
    "        indexes.append(index)\n",
    "        odd_to_save.append(i)\n",
    "        even_to_save.append(i+1)"
   ]
  },
  {
   "cell_type": "code",
   "execution_count": null,
   "metadata": {
    "collapsed": true
   },
   "outputs": [],
   "source": [
    "len(total_index)"
   ]
  },
  {
   "cell_type": "code",
   "execution_count": null,
   "metadata": {
    "collapsed": true
   },
   "outputs": [],
   "source": [
    "filtered_content = [content[i] for i in even_to_save]"
   ]
  },
  {
   "cell_type": "code",
   "execution_count": null,
   "metadata": {
    "collapsed": true
   },
   "outputs": [],
   "source": [
    "filtered_content[:2]"
   ]
  },
  {
   "cell_type": "code",
   "execution_count": null,
   "metadata": {
    "collapsed": true
   },
   "outputs": [],
   "source": [
    "len(filtered_content) / 5"
   ]
  },
  {
   "cell_type": "code",
   "execution_count": null,
   "metadata": {
    "collapsed": true
   },
   "outputs": [],
   "source": [
    "ll = []\n",
    "for i in range(0, len(filtered_content), 1047):\n",
    "    ll.append(filtered_content[i:i+1047])"
   ]
  },
  {
   "cell_type": "code",
   "execution_count": null,
   "metadata": {
    "collapsed": true
   },
   "outputs": [],
   "source": [
    "for ind, l in enumerate(ll):\n",
    "    with open(os.path.join(processed_path, 'filtered_wget_{}.txt'.format(ind)), 'w') as f:\n",
    "        f.writelines(l)"
   ]
  },
  {
   "cell_type": "code",
   "execution_count": null,
   "metadata": {
    "collapsed": true
   },
   "outputs": [],
   "source": [
    "test_path = '/home/jevgenji/Desktop/filtered_wget_0/kplr001026957_q1_q17_dr25_tce_01_dvt_lc.tbl'"
   ]
  },
  {
   "cell_type": "code",
   "execution_count": null,
   "metadata": {
    "collapsed": true
   },
   "outputs": [],
   "source": [
    "from astropy.table import Table"
   ]
  },
  {
   "cell_type": "code",
   "execution_count": null,
   "metadata": {
    "collapsed": true
   },
   "outputs": [],
   "source": [
    "t = Table.read(test_path, format='ipac')"
   ]
  },
  {
   "cell_type": "code",
   "execution_count": null,
   "metadata": {
    "collapsed": true
   },
   "outputs": [],
   "source": [
    "t.columns"
   ]
  },
  {
   "cell_type": "markdown",
   "metadata": {},
   "source": [
    "#### IBCC"
   ]
  },
  {
   "cell_type": "code",
   "execution_count": 1,
   "metadata": {
    "collapsed": true
   },
   "outputs": [],
   "source": [
    "from edward.models import Dirichlet, Exponential, Categorical, Empirical\n",
    "import edward as ed\n",
    "import tensorflow as tf\n",
    "import copy\n",
    "import pandas as pd\n",
    "import numpy as np\n",
    "import matplotlib.pyplot as plt\n",
    "from IPython.core.interactiveshell import InteractiveShell\n",
    "from IPython.display import display\n",
    "np.set_printoptions(precision=2,suppress=True)\n",
    "\n",
    "pd.options.display.max_columns = None\n",
    "InteractiveShell.ast_node_interactivity = \"all\"\n",
    "sess = tf.Session()"
   ]
  },
  {
   "cell_type": "code",
   "execution_count": 2,
   "metadata": {
    "collapsed": true
   },
   "outputs": [],
   "source": [
    "def build_dataset(I, J, K, nu_vec, lambda_mat):\n",
    "    \"\"\"\n",
    "    Inputs:\n",
    "        I - int, number of instances\n",
    "        J - int, number of classes\n",
    "        K - int, number of classifiers \n",
    "        nu_vec - hyper parameter array of shape (J,) for dirichlet prior over categorical for t_i\n",
    "        lambda_mat - a hyper param array of shape (J, J) for exponential prior over Dirichlet \n",
    "    Outputs:\n",
    "        A (I, K) array of K predictions for each instance\n",
    "    \"\"\"\n",
    "    \n",
    "    # Check if nu_vec has the corresponding (1,J) size\n",
    "    nu_vec = np.array(nu_vec)\n",
    "    assert nu_vec.shape == (J,), 'Wrong shape of parameter array nu!'\n",
    "    \n",
    "    # Check if lambda_mat is of shape (J, J)\n",
    "    lambda_mat = np.array(lambda_mat)\n",
    "    assert lambda_mat.shape == (J, J), 'Wrong shape of parameter lamda_mat'\n",
    "    \n",
    "    # Generate t vector\n",
    "    p_vec = Dirichlet( concentration = nu_vec )\n",
    "    t = Categorical( probs= p_vec, sample_shape = I)\n",
    "   \n",
    "    # Reshape lambda_mat to be of shape (K, J, J), a K copies of (J,J) matrix\n",
    "    lambda_mat = tf.reshape( tf.concat([lambda_mat for _ in range(K)], axis=0), [K, J, J] )\n",
    "    \n",
    "    # Continue into generating c vector\n",
    "    alpha = Exponential( rate = lambda_mat )\n",
    "    pi = Dirichlet( concentration = alpha ) # Confusion matrices of shape (K, J, J)\n",
    "    c = [Categorical( probs = tf.gather(pi[k], t) ) for k in range(K)] # iterate over k_i\n",
    "    \n",
    "    return sess.run([c, pi, t, p_vec])"
   ]
  },
  {
   "cell_type": "code",
   "execution_count": 18,
   "metadata": {
    "collapsed": true
   },
   "outputs": [],
   "source": [
    "I = 100\n",
    "J = 3\n",
    "K = 4\n",
    "nu_vec = np.array([1. for _ in range(J)], dtype=np.float32)\n",
    "lambda_mat = np.array([[.3, 3., 2.], [2., .5, 3.], [2., 3., .5]], dtype=np.float32)\n",
    "lambda_mat.dtype = 'float32'\n",
    "c_train, true_conf, true_t, true_p = build_dataset(I, J, K, np.ones(J), np.ones([J, J]))"
   ]
  },
  {
   "cell_type": "code",
   "execution_count": 19,
   "metadata": {
    "scrolled": true
   },
   "outputs": [
    {
     "data": {
      "text/html": [
       "<div>\n",
       "<style>\n",
       "    .dataframe thead tr:only-child th {\n",
       "        text-align: right;\n",
       "    }\n",
       "\n",
       "    .dataframe thead th {\n",
       "        text-align: left;\n",
       "    }\n",
       "\n",
       "    .dataframe tbody tr th {\n",
       "        vertical-align: top;\n",
       "    }\n",
       "</style>\n",
       "<table border=\"1\" class=\"dataframe\">\n",
       "  <thead>\n",
       "    <tr style=\"text-align: right;\">\n",
       "      <th></th>\n",
       "      <th>c_0</th>\n",
       "      <th>c_1</th>\n",
       "      <th>c_2</th>\n",
       "      <th>c_3</th>\n",
       "      <th>true_t</th>\n",
       "    </tr>\n",
       "  </thead>\n",
       "  <tbody>\n",
       "    <tr>\n",
       "      <th>0</th>\n",
       "      <td>0</td>\n",
       "      <td>2</td>\n",
       "      <td>0</td>\n",
       "      <td>0</td>\n",
       "      <td>2</td>\n",
       "    </tr>\n",
       "    <tr>\n",
       "      <th>1</th>\n",
       "      <td>2</td>\n",
       "      <td>2</td>\n",
       "      <td>2</td>\n",
       "      <td>0</td>\n",
       "      <td>2</td>\n",
       "    </tr>\n",
       "    <tr>\n",
       "      <th>2</th>\n",
       "      <td>0</td>\n",
       "      <td>2</td>\n",
       "      <td>0</td>\n",
       "      <td>0</td>\n",
       "      <td>2</td>\n",
       "    </tr>\n",
       "    <tr>\n",
       "      <th>3</th>\n",
       "      <td>0</td>\n",
       "      <td>2</td>\n",
       "      <td>2</td>\n",
       "      <td>1</td>\n",
       "      <td>2</td>\n",
       "    </tr>\n",
       "    <tr>\n",
       "      <th>4</th>\n",
       "      <td>2</td>\n",
       "      <td>2</td>\n",
       "      <td>0</td>\n",
       "      <td>1</td>\n",
       "      <td>0</td>\n",
       "    </tr>\n",
       "    <tr>\n",
       "      <th>5</th>\n",
       "      <td>2</td>\n",
       "      <td>0</td>\n",
       "      <td>0</td>\n",
       "      <td>0</td>\n",
       "      <td>2</td>\n",
       "    </tr>\n",
       "    <tr>\n",
       "      <th>6</th>\n",
       "      <td>0</td>\n",
       "      <td>2</td>\n",
       "      <td>0</td>\n",
       "      <td>0</td>\n",
       "      <td>2</td>\n",
       "    </tr>\n",
       "    <tr>\n",
       "      <th>7</th>\n",
       "      <td>1</td>\n",
       "      <td>1</td>\n",
       "      <td>2</td>\n",
       "      <td>0</td>\n",
       "      <td>2</td>\n",
       "    </tr>\n",
       "    <tr>\n",
       "      <th>8</th>\n",
       "      <td>1</td>\n",
       "      <td>2</td>\n",
       "      <td>0</td>\n",
       "      <td>2</td>\n",
       "      <td>1</td>\n",
       "    </tr>\n",
       "    <tr>\n",
       "      <th>9</th>\n",
       "      <td>0</td>\n",
       "      <td>2</td>\n",
       "      <td>2</td>\n",
       "      <td>0</td>\n",
       "      <td>2</td>\n",
       "    </tr>\n",
       "    <tr>\n",
       "      <th>10</th>\n",
       "      <td>2</td>\n",
       "      <td>2</td>\n",
       "      <td>2</td>\n",
       "      <td>0</td>\n",
       "      <td>2</td>\n",
       "    </tr>\n",
       "    <tr>\n",
       "      <th>11</th>\n",
       "      <td>2</td>\n",
       "      <td>2</td>\n",
       "      <td>0</td>\n",
       "      <td>0</td>\n",
       "      <td>2</td>\n",
       "    </tr>\n",
       "    <tr>\n",
       "      <th>12</th>\n",
       "      <td>2</td>\n",
       "      <td>2</td>\n",
       "      <td>0</td>\n",
       "      <td>1</td>\n",
       "      <td>2</td>\n",
       "    </tr>\n",
       "    <tr>\n",
       "      <th>13</th>\n",
       "      <td>2</td>\n",
       "      <td>2</td>\n",
       "      <td>2</td>\n",
       "      <td>1</td>\n",
       "      <td>2</td>\n",
       "    </tr>\n",
       "    <tr>\n",
       "      <th>14</th>\n",
       "      <td>0</td>\n",
       "      <td>2</td>\n",
       "      <td>0</td>\n",
       "      <td>0</td>\n",
       "      <td>2</td>\n",
       "    </tr>\n",
       "    <tr>\n",
       "      <th>15</th>\n",
       "      <td>0</td>\n",
       "      <td>2</td>\n",
       "      <td>0</td>\n",
       "      <td>2</td>\n",
       "      <td>2</td>\n",
       "    </tr>\n",
       "    <tr>\n",
       "      <th>16</th>\n",
       "      <td>1</td>\n",
       "      <td>2</td>\n",
       "      <td>2</td>\n",
       "      <td>2</td>\n",
       "      <td>1</td>\n",
       "    </tr>\n",
       "    <tr>\n",
       "      <th>17</th>\n",
       "      <td>0</td>\n",
       "      <td>2</td>\n",
       "      <td>2</td>\n",
       "      <td>0</td>\n",
       "      <td>2</td>\n",
       "    </tr>\n",
       "    <tr>\n",
       "      <th>18</th>\n",
       "      <td>2</td>\n",
       "      <td>2</td>\n",
       "      <td>0</td>\n",
       "      <td>2</td>\n",
       "      <td>2</td>\n",
       "    </tr>\n",
       "    <tr>\n",
       "      <th>19</th>\n",
       "      <td>0</td>\n",
       "      <td>1</td>\n",
       "      <td>2</td>\n",
       "      <td>0</td>\n",
       "      <td>2</td>\n",
       "    </tr>\n",
       "    <tr>\n",
       "      <th>20</th>\n",
       "      <td>0</td>\n",
       "      <td>1</td>\n",
       "      <td>0</td>\n",
       "      <td>0</td>\n",
       "      <td>2</td>\n",
       "    </tr>\n",
       "    <tr>\n",
       "      <th>21</th>\n",
       "      <td>1</td>\n",
       "      <td>0</td>\n",
       "      <td>0</td>\n",
       "      <td>0</td>\n",
       "      <td>1</td>\n",
       "    </tr>\n",
       "    <tr>\n",
       "      <th>22</th>\n",
       "      <td>1</td>\n",
       "      <td>0</td>\n",
       "      <td>0</td>\n",
       "      <td>0</td>\n",
       "      <td>1</td>\n",
       "    </tr>\n",
       "    <tr>\n",
       "      <th>23</th>\n",
       "      <td>2</td>\n",
       "      <td>2</td>\n",
       "      <td>0</td>\n",
       "      <td>0</td>\n",
       "      <td>2</td>\n",
       "    </tr>\n",
       "    <tr>\n",
       "      <th>24</th>\n",
       "      <td>2</td>\n",
       "      <td>0</td>\n",
       "      <td>0</td>\n",
       "      <td>2</td>\n",
       "      <td>2</td>\n",
       "    </tr>\n",
       "    <tr>\n",
       "      <th>25</th>\n",
       "      <td>1</td>\n",
       "      <td>2</td>\n",
       "      <td>0</td>\n",
       "      <td>0</td>\n",
       "      <td>1</td>\n",
       "    </tr>\n",
       "    <tr>\n",
       "      <th>26</th>\n",
       "      <td>0</td>\n",
       "      <td>2</td>\n",
       "      <td>0</td>\n",
       "      <td>2</td>\n",
       "      <td>2</td>\n",
       "    </tr>\n",
       "    <tr>\n",
       "      <th>27</th>\n",
       "      <td>2</td>\n",
       "      <td>0</td>\n",
       "      <td>2</td>\n",
       "      <td>0</td>\n",
       "      <td>2</td>\n",
       "    </tr>\n",
       "    <tr>\n",
       "      <th>28</th>\n",
       "      <td>2</td>\n",
       "      <td>2</td>\n",
       "      <td>0</td>\n",
       "      <td>2</td>\n",
       "      <td>2</td>\n",
       "    </tr>\n",
       "    <tr>\n",
       "      <th>29</th>\n",
       "      <td>2</td>\n",
       "      <td>1</td>\n",
       "      <td>0</td>\n",
       "      <td>1</td>\n",
       "      <td>0</td>\n",
       "    </tr>\n",
       "    <tr>\n",
       "      <th>...</th>\n",
       "      <td>...</td>\n",
       "      <td>...</td>\n",
       "      <td>...</td>\n",
       "      <td>...</td>\n",
       "      <td>...</td>\n",
       "    </tr>\n",
       "    <tr>\n",
       "      <th>70</th>\n",
       "      <td>0</td>\n",
       "      <td>2</td>\n",
       "      <td>2</td>\n",
       "      <td>0</td>\n",
       "      <td>2</td>\n",
       "    </tr>\n",
       "    <tr>\n",
       "      <th>71</th>\n",
       "      <td>2</td>\n",
       "      <td>2</td>\n",
       "      <td>2</td>\n",
       "      <td>1</td>\n",
       "      <td>2</td>\n",
       "    </tr>\n",
       "    <tr>\n",
       "      <th>72</th>\n",
       "      <td>1</td>\n",
       "      <td>2</td>\n",
       "      <td>0</td>\n",
       "      <td>0</td>\n",
       "      <td>1</td>\n",
       "    </tr>\n",
       "    <tr>\n",
       "      <th>73</th>\n",
       "      <td>1</td>\n",
       "      <td>2</td>\n",
       "      <td>0</td>\n",
       "      <td>0</td>\n",
       "      <td>1</td>\n",
       "    </tr>\n",
       "    <tr>\n",
       "      <th>74</th>\n",
       "      <td>2</td>\n",
       "      <td>1</td>\n",
       "      <td>1</td>\n",
       "      <td>1</td>\n",
       "      <td>0</td>\n",
       "    </tr>\n",
       "    <tr>\n",
       "      <th>75</th>\n",
       "      <td>0</td>\n",
       "      <td>2</td>\n",
       "      <td>2</td>\n",
       "      <td>0</td>\n",
       "      <td>2</td>\n",
       "    </tr>\n",
       "    <tr>\n",
       "      <th>76</th>\n",
       "      <td>0</td>\n",
       "      <td>0</td>\n",
       "      <td>0</td>\n",
       "      <td>0</td>\n",
       "      <td>2</td>\n",
       "    </tr>\n",
       "    <tr>\n",
       "      <th>77</th>\n",
       "      <td>2</td>\n",
       "      <td>2</td>\n",
       "      <td>0</td>\n",
       "      <td>0</td>\n",
       "      <td>2</td>\n",
       "    </tr>\n",
       "    <tr>\n",
       "      <th>78</th>\n",
       "      <td>1</td>\n",
       "      <td>2</td>\n",
       "      <td>0</td>\n",
       "      <td>0</td>\n",
       "      <td>1</td>\n",
       "    </tr>\n",
       "    <tr>\n",
       "      <th>79</th>\n",
       "      <td>2</td>\n",
       "      <td>2</td>\n",
       "      <td>0</td>\n",
       "      <td>1</td>\n",
       "      <td>0</td>\n",
       "    </tr>\n",
       "    <tr>\n",
       "      <th>80</th>\n",
       "      <td>2</td>\n",
       "      <td>2</td>\n",
       "      <td>0</td>\n",
       "      <td>1</td>\n",
       "      <td>0</td>\n",
       "    </tr>\n",
       "    <tr>\n",
       "      <th>81</th>\n",
       "      <td>0</td>\n",
       "      <td>0</td>\n",
       "      <td>0</td>\n",
       "      <td>0</td>\n",
       "      <td>2</td>\n",
       "    </tr>\n",
       "    <tr>\n",
       "      <th>82</th>\n",
       "      <td>1</td>\n",
       "      <td>2</td>\n",
       "      <td>0</td>\n",
       "      <td>0</td>\n",
       "      <td>1</td>\n",
       "    </tr>\n",
       "    <tr>\n",
       "      <th>83</th>\n",
       "      <td>1</td>\n",
       "      <td>2</td>\n",
       "      <td>2</td>\n",
       "      <td>2</td>\n",
       "      <td>1</td>\n",
       "    </tr>\n",
       "    <tr>\n",
       "      <th>84</th>\n",
       "      <td>2</td>\n",
       "      <td>2</td>\n",
       "      <td>2</td>\n",
       "      <td>2</td>\n",
       "      <td>0</td>\n",
       "    </tr>\n",
       "    <tr>\n",
       "      <th>85</th>\n",
       "      <td>0</td>\n",
       "      <td>1</td>\n",
       "      <td>0</td>\n",
       "      <td>2</td>\n",
       "      <td>2</td>\n",
       "    </tr>\n",
       "    <tr>\n",
       "      <th>86</th>\n",
       "      <td>2</td>\n",
       "      <td>2</td>\n",
       "      <td>0</td>\n",
       "      <td>0</td>\n",
       "      <td>2</td>\n",
       "    </tr>\n",
       "    <tr>\n",
       "      <th>87</th>\n",
       "      <td>2</td>\n",
       "      <td>2</td>\n",
       "      <td>0</td>\n",
       "      <td>1</td>\n",
       "      <td>0</td>\n",
       "    </tr>\n",
       "    <tr>\n",
       "      <th>88</th>\n",
       "      <td>2</td>\n",
       "      <td>2</td>\n",
       "      <td>2</td>\n",
       "      <td>0</td>\n",
       "      <td>2</td>\n",
       "    </tr>\n",
       "    <tr>\n",
       "      <th>89</th>\n",
       "      <td>2</td>\n",
       "      <td>2</td>\n",
       "      <td>0</td>\n",
       "      <td>1</td>\n",
       "      <td>2</td>\n",
       "    </tr>\n",
       "    <tr>\n",
       "      <th>90</th>\n",
       "      <td>2</td>\n",
       "      <td>2</td>\n",
       "      <td>2</td>\n",
       "      <td>0</td>\n",
       "      <td>2</td>\n",
       "    </tr>\n",
       "    <tr>\n",
       "      <th>91</th>\n",
       "      <td>2</td>\n",
       "      <td>2</td>\n",
       "      <td>0</td>\n",
       "      <td>2</td>\n",
       "      <td>2</td>\n",
       "    </tr>\n",
       "    <tr>\n",
       "      <th>92</th>\n",
       "      <td>0</td>\n",
       "      <td>2</td>\n",
       "      <td>0</td>\n",
       "      <td>1</td>\n",
       "      <td>2</td>\n",
       "    </tr>\n",
       "    <tr>\n",
       "      <th>93</th>\n",
       "      <td>0</td>\n",
       "      <td>2</td>\n",
       "      <td>2</td>\n",
       "      <td>0</td>\n",
       "      <td>2</td>\n",
       "    </tr>\n",
       "    <tr>\n",
       "      <th>94</th>\n",
       "      <td>2</td>\n",
       "      <td>1</td>\n",
       "      <td>0</td>\n",
       "      <td>1</td>\n",
       "      <td>0</td>\n",
       "    </tr>\n",
       "    <tr>\n",
       "      <th>95</th>\n",
       "      <td>1</td>\n",
       "      <td>2</td>\n",
       "      <td>0</td>\n",
       "      <td>2</td>\n",
       "      <td>1</td>\n",
       "    </tr>\n",
       "    <tr>\n",
       "      <th>96</th>\n",
       "      <td>2</td>\n",
       "      <td>1</td>\n",
       "      <td>1</td>\n",
       "      <td>1</td>\n",
       "      <td>0</td>\n",
       "    </tr>\n",
       "    <tr>\n",
       "      <th>97</th>\n",
       "      <td>0</td>\n",
       "      <td>0</td>\n",
       "      <td>2</td>\n",
       "      <td>0</td>\n",
       "      <td>2</td>\n",
       "    </tr>\n",
       "    <tr>\n",
       "      <th>98</th>\n",
       "      <td>2</td>\n",
       "      <td>0</td>\n",
       "      <td>0</td>\n",
       "      <td>2</td>\n",
       "      <td>2</td>\n",
       "    </tr>\n",
       "    <tr>\n",
       "      <th>99</th>\n",
       "      <td>2</td>\n",
       "      <td>1</td>\n",
       "      <td>2</td>\n",
       "      <td>0</td>\n",
       "      <td>2</td>\n",
       "    </tr>\n",
       "  </tbody>\n",
       "</table>\n",
       "<p>100 rows × 5 columns</p>\n",
       "</div>"
      ],
      "text/plain": [
       "    c_0  c_1  c_2  c_3  true_t\n",
       "0     0    2    0    0       2\n",
       "1     2    2    2    0       2\n",
       "2     0    2    0    0       2\n",
       "3     0    2    2    1       2\n",
       "4     2    2    0    1       0\n",
       "5     2    0    0    0       2\n",
       "6     0    2    0    0       2\n",
       "7     1    1    2    0       2\n",
       "8     1    2    0    2       1\n",
       "9     0    2    2    0       2\n",
       "10    2    2    2    0       2\n",
       "11    2    2    0    0       2\n",
       "12    2    2    0    1       2\n",
       "13    2    2    2    1       2\n",
       "14    0    2    0    0       2\n",
       "15    0    2    0    2       2\n",
       "16    1    2    2    2       1\n",
       "17    0    2    2    0       2\n",
       "18    2    2    0    2       2\n",
       "19    0    1    2    0       2\n",
       "20    0    1    0    0       2\n",
       "21    1    0    0    0       1\n",
       "22    1    0    0    0       1\n",
       "23    2    2    0    0       2\n",
       "24    2    0    0    2       2\n",
       "25    1    2    0    0       1\n",
       "26    0    2    0    2       2\n",
       "27    2    0    2    0       2\n",
       "28    2    2    0    2       2\n",
       "29    2    1    0    1       0\n",
       "..  ...  ...  ...  ...     ...\n",
       "70    0    2    2    0       2\n",
       "71    2    2    2    1       2\n",
       "72    1    2    0    0       1\n",
       "73    1    2    0    0       1\n",
       "74    2    1    1    1       0\n",
       "75    0    2    2    0       2\n",
       "76    0    0    0    0       2\n",
       "77    2    2    0    0       2\n",
       "78    1    2    0    0       1\n",
       "79    2    2    0    1       0\n",
       "80    2    2    0    1       0\n",
       "81    0    0    0    0       2\n",
       "82    1    2    0    0       1\n",
       "83    1    2    2    2       1\n",
       "84    2    2    2    2       0\n",
       "85    0    1    0    2       2\n",
       "86    2    2    0    0       2\n",
       "87    2    2    0    1       0\n",
       "88    2    2    2    0       2\n",
       "89    2    2    0    1       2\n",
       "90    2    2    2    0       2\n",
       "91    2    2    0    2       2\n",
       "92    0    2    0    1       2\n",
       "93    0    2    2    0       2\n",
       "94    2    1    0    1       0\n",
       "95    1    2    0    2       1\n",
       "96    2    1    1    1       0\n",
       "97    0    0    2    0       2\n",
       "98    2    0    0    2       2\n",
       "99    2    1    2    0       2\n",
       "\n",
       "[100 rows x 5 columns]"
      ]
     },
     "metadata": {},
     "output_type": "display_data"
    }
   ],
   "source": [
    "training_data = pd.DataFrame({**{'c_{}'.format(i): c_train[i] for i in range(len(c_train))}, **{'true_t': true_t} } )\n",
    "display(training_data)"
   ]
  },
  {
   "cell_type": "code",
   "execution_count": 20,
   "metadata": {},
   "outputs": [
    {
     "data": {
      "text/plain": [
       "array([ 0.23,  0.16,  0.62])"
      ]
     },
     "execution_count": 20,
     "metadata": {},
     "output_type": "execute_result"
    }
   ],
   "source": [
    "true_p"
   ]
  },
  {
   "cell_type": "code",
   "execution_count": null,
   "metadata": {
    "collapsed": true
   },
   "outputs": [],
   "source": [
    "# Forward model\n",
    "I = 100\n",
    "J = 3\n",
    "K = 4\n",
    "# Generate t vector\n",
    "p_vec = Dirichlet( concentration = tf.ones(J))\n",
    "t = Categorical( logits = p_vec, sample_shape = I )\n",
    "\n",
    "# Continue into generating c vector\n",
    "alpha = [Exponential( rate = tf.ones([J,J]) ) for _ in range(K)]\n",
    "pi = [Dirichlet( concentration = alpha[k] ) for k in range(K)]\n",
    "c_forward = [Categorical( logits = tf.gather(pi[k], t) ) for k in range(K)] # iterate over k_i"
   ]
  },
  {
   "cell_type": "code",
   "execution_count": null,
   "metadata": {
    "collapsed": true,
    "scrolled": true
   },
   "outputs": [],
   "source": [
    "T = 1000 # Number of MCMC samples\n",
    "\n",
    "q_p_vec = Empirical(tf.Variable(tf.ones([T, J])))\n",
    "q_t = Empirical(tf.cast(tf.Variable(tf.ones([T, I])), tf.int32))\n",
    "\n",
    "q_alpha = [Empirical(tf.Variable(tf.ones([T, J, J]))) for _ in range(K)]\n",
    "q_pi = [Empirical(tf.Variable(tf.ones([T, J, J]))) for _ in range(K)]"
   ]
  },
  {
   "cell_type": "code",
   "execution_count": null,
   "metadata": {
    "collapsed": true
   },
   "outputs": [],
   "source": [
    "latent_vars=dict(list(zip(pi, q_pi))+list(zip(alpha, q_alpha))+[(t, q_t), (p_vec, q_p_vec)])\n",
    "\n",
    "inference = ed.HMC(latent_vars=latent_vars\n",
    "                   , data=dict(zip(c_forward, c_train)))"
   ]
  },
  {
   "cell_type": "markdown",
   "metadata": {},
   "source": [
    "# Dustins"
   ]
  },
  {
   "cell_type": "code",
   "execution_count": null,
   "metadata": {
    "collapsed": true
   },
   "outputs": [],
   "source": [
    "import numpy as np\n",
    "import edward as ed\n",
    "import tensorflow as tf\n",
    "from edward.models import *\n",
    "\n",
    "def build_dataset(I, J, K, nu_vec, lambda_mat):\n",
    "  \"\"\"\n",
    "  Inputs:\n",
    "      I - int, number of instances\n",
    "      J - int, number of classes\n",
    "      K - int, number of classifiers\n",
    "      nu_vec - hyper parameter array of shape (J,) for dirichlet prior over categorical for t_i\n",
    "      lambda_mat - a hyper param array of shape (J, J) for exponential prior over Dirichlet\n",
    "  Outputs:\n",
    "      A list c of length(K), where each element is an array of shape (I, )\n",
    "  \"\"\"\n",
    "\n",
    "  # Check if nu_vec has the corresponding (1,J) size\n",
    "  nu_vec = np.array(nu_vec)\n",
    "  assert nu_vec.shape == (J,), 'Wrong shape of parameter array nu!'\n",
    "\n",
    "  # Check if lambda_mat is of shape (J, J)\n",
    "  lambda_mat = np.array(lambda_mat)\n",
    "  assert lambda_mat.shape == (J, J), 'Wrong shape of parameter lamda_mat'\n",
    "\n",
    "  # Generate t vector\n",
    "  p_vec = Dirichlet( concentration = nu_vec )\n",
    "  t = Categorical( logits= p_vec, sample_shape = I)\n",
    "\n",
    "  # Reshape lambda_mat to be of shape (K, J, J), a K copies of (J,J) matrix\n",
    "  lambda_mat = tf.reshape( tf.concat([lambda_mat for _ in range(K)], axis=0), [K, J, J] )\n",
    "\n",
    "  # Continue into generating c vector\n",
    "  alpha = Exponential( rate = lambda_mat )\n",
    "  pi = Dirichlet( concentration = alpha ) # Confusion matrices of shape (K, J, J)\n",
    "  c = [Categorical( logits = tf.gather(pi[k], t) ) for k in range(K)] # iterate over k_i\n",
    "\n",
    "  sess = ed.get_session()\n",
    "  return sess.run([c, pi, t])\n",
    "\n",
    "# Forward model\n",
    "I = 100\n",
    "J = 3\n",
    "K = 4\n",
    "\n",
    "c, pi, t = build_dataset(I, J, K, np.ones(J), np.ones([J, J]))\n",
    "\n",
    "c_train = c\n",
    "\n",
    "# Generate t vector\n",
    "p_vec = Dirichlet( concentration = tf.ones([J])+10)\n",
    "t = Categorical( logits= p_vec, sample_shape = I )\n",
    "\n",
    "# Continue into generating c vector\n",
    "alpha = [Exponential( rate = tf.ones([J, J]) ) for _ in range(K)]\n",
    "pi = [Dirichlet( concentration = alpha[k] ) for k in range(K)]\n",
    "c_forward = [Categorical( logits = tf.gather(pi[k], t) ) for k in range(K)] # iterate over k_i\n",
    "\n",
    "# Trying the HMC code snippet\n",
    "T = 1000 # Number of MCMC samples\n",
    "\n",
    "q_p_vec = Empirical(tf.Variable(tf.ones([T, J])))\n",
    "q_t = Empirical(tf.cast(tf.Variable(tf.ones([T, I])), tf.int32))\n",
    "\n",
    "q_alpha = [Empirical(tf.Variable(tf.ones([T, J, J]))) for _ in range(K)]\n",
    "q_pi = [Empirical(tf.Variable(tf.ones([T, J, J]))) for _ in range(K)]\n",
    "latent_vars=dict(list(zip(pi, q_pi))+list(zip(alpha, q_alpha))+[(t, q_t), (p_vec, q_p_vec)])"
   ]
  },
  {
   "cell_type": "code",
   "execution_count": null,
   "metadata": {
    "collapsed": true
   },
   "outputs": [],
   "source": [
    "# inference = ed.Gibbs(latent_vars,  data=dict(zip(c_forward, c_train)))"
   ]
  },
  {
   "cell_type": "markdown",
   "metadata": {},
   "source": [
    "# pymc3"
   ]
  },
  {
   "cell_type": "code",
   "execution_count": 26,
   "metadata": {
    "collapsed": true
   },
   "outputs": [],
   "source": [
    "import pymc3 as pm\n",
    "import numpy as np\n",
    "import theano as T"
   ]
  },
  {
   "cell_type": "code",
   "execution_count": 27,
   "metadata": {
    "collapsed": true
   },
   "outputs": [],
   "source": [
    "I = 100\n",
    "J = 3\n",
    "K = 4\n",
    "nu_vec = np.array([1. for _ in range(J)], dtype=np.float32)\n",
    "lambda_mat = np.array([[.3, 3., 2.], [2., .5, 3.], [2., 3., .5]], dtype=np.float32)\n",
    "lambda_mat2 = np.array([[.5, 2.], [2., .5,]], dtype=np.float32)\n",
    "import theano as T"
   ]
  },
  {
   "cell_type": "code",
   "execution_count": 28,
   "metadata": {},
   "outputs": [],
   "source": [
    "IBCC = pm.Model()\n",
    "\n",
    "with IBCC:\n",
    "    \n",
    "    p_vec = pm.Dirichlet(name='p_vec', a=nu_vec)\n",
    "\n",
    "    t = pm.Categorical(name='t', p=p_vec, shape=I)\n",
    "    \n",
    "    alpha = [pm.Exponential('alpha_{}'.format(k), lam=lambda_mat, shape=(J, J)) for k in range(K)]\n",
    "    \n",
    "    alpha = T.tensor.stack(alpha)\n",
    "    \n",
    "    pi = [[pm.Dirichlet('pi_j{}k{}'.format(j, k), a=alpha[k][j], shape=3) for j in range(J)] for k in range(K)]\n",
    "    \n",
    "    pi = T.tensor.stack(pi)\n",
    "    \n",
    "    c = [[] for k in range(K)]\n",
    "    \n",
    "    t_sample = t.random()\n",
    "    \n",
    "    for i in range(I):\n",
    "        \n",
    "        for k in range(K):\n",
    "\n",
    "            c[k].append(pm.Categorical('c_k{}i{}'.format(k, i), p=pi[k][t_sample[i]], observed=c_train[k][i]))\n",
    "        \n",
    "    c = T.tensor.stack(c)"
   ]
  },
  {
   "cell_type": "code",
   "execution_count": 29,
   "metadata": {
    "scrolled": true
   },
   "outputs": [
    {
     "name": "stderr",
     "output_type": "stream",
     "text": [
      "100%|██████████| 50000/50000 [52:01<00:00, 16.02it/s] \n"
     ]
    }
   ],
   "source": [
    "with IBCC:\n",
    "    step1 = pm.sampling.CategoricalGibbsMetropolis([t, c])\n",
    "    step2 = pm.sampling.Metropolis([alpha, pi, p_vec])\n",
    "    trace = pm.sample(50000, step=[step1, step2])"
   ]
  },
  {
   "cell_type": "code",
   "execution_count": 31,
   "metadata": {},
   "outputs": [],
   "source": [
    "p_vec = trace.get_values('p_vec')"
   ]
  },
  {
   "cell_type": "code",
   "execution_count": 40,
   "metadata": {},
   "outputs": [
    {
     "data": {
      "text/plain": [
       "(50000, 3)"
      ]
     },
     "execution_count": 40,
     "metadata": {},
     "output_type": "execute_result"
    }
   ],
   "source": [
    "p_vec.shape"
   ]
  },
  {
   "cell_type": "code",
   "execution_count": 43,
   "metadata": {},
   "outputs": [
    {
     "data": {
      "text/plain": [
       "[<matplotlib.lines.Line2D at 0x7f5b57c47898>]"
      ]
     },
     "execution_count": 43,
     "metadata": {},
     "output_type": "execute_result"
    },
    {
     "data": {
      "image/png": "[encoded data removed]",
      "text/plain": [
       "<matplotlib.figure.Figure at 0x7f5b71868438>"
      ]
     },
     "metadata": {},
     "output_type": "display_data"
    }
   ],
   "source": [
    "plt.plot(p_vec[:,2])\n",
    "plt.show()"
   ]
  },
  {
   "cell_type": "code",
   "execution_count": null,
   "metadata": {
    "collapsed": true
   },
   "outputs": [],
   "source": [
    "def count_mcmc_progs(mcmc_array, J, ind_samples=0):\n",
    "    \"\"\"\n",
    "    mcmc_array - output array from trace.get_values('variable_name')\n",
    "    J - number of classes\n",
    "    ind_samples - index to sum over, for example to sum over rows should be 0\n",
    "    \"\"\"\n",
    "    probs = np.zeros((mcmc_array.shape[int(not ind_samples)],3))\n",
    "    \n",
    "    for j in range(J):\n",
    "        \n",
    "        probs[:,j] = np.sum( np.isin(mcmc_array, [j]), ind_samples) / mcmc_array.shape[0]\n",
    "        \n",
    "    return probs"
   ]
  },
  {
   "cell_type": "code",
   "execution_count": null,
   "metadata": {},
   "outputs": [],
   "source": [
    "mcmc_array = trace.get_values('t')\n",
    "ind_samples = 0\n",
    "count_mcmc_progs(mcmc_array, 3)"
   ]
  },
  {
   "cell_type": "code",
   "execution_count": null,
   "metadata": {
    "collapsed": true
   },
   "outputs": [],
   "source": []
  }
 ],
 "metadata": {
  "kernelspec": {
   "display_name": "Python [conda root]",
   "language": "python",
   "name": "conda-root-py"
  },
  "language_info": {
   "codemirror_mode": {
    "name": "ipython",
    "version": 3
   },
   "file_extension": ".py",
   "mimetype": "text/x-python",
   "name": "python",
   "nbconvert_exporter": "python",
   "pygments_lexer": "ipython3",
   "version": "3.5.4"
  }
 },
 "nbformat": 4,
 "nbformat_minor": 2
}
