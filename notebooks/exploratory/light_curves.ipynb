{
 "cells": [
  {
   "cell_type": "code",
   "execution_count": 35,
   "metadata": {},
   "outputs": [],
   "source": [
    "from astropy.table import Table\n",
    "import matplotlib.pyplot as plt\n",
    "import numpy as np\n",
    "import pandas as pd\n",
    "from IPython.core.interactiveshell import InteractiveShell\n",
    "from IPython.display import display\n",
    "pd.options.display.max_columns = None\n",
    "InteractiveShell.ast_node_interactivity = \"all\"\n",
    "\n",
    "test_path = '/home/jevgenji/Desktop/filtered_wget_0/kplr001026957_q1_q17_dr25_tce_01_dvt_lc.tbl'"
   ]
  },
  {
   "cell_type": "code",
   "execution_count": 36,
   "metadata": {
    "collapsed": true
   },
   "outputs": [],
   "source": [
    "t = Table.read(test_path, format='ipac')"
   ]
  },
  {
   "cell_type": "code",
   "execution_count": 16,
   "metadata": {},
   "outputs": [
    {
     "data": {
      "text/plain": [
       "OrderedDict([('comments',\n",
       "              ['Kepler Mission FITS Header Keywords',\n",
       "               'NASA Exoplanet Archive Table Header Keywords',\n",
       "               'ORBITALPERIOD and TRANSITEPOCH in BKJD (BJD - 2454833)',\n",
       "               'TIME:  BKJD (BJD - 2454833)',\n",
       "               'TIMECORR:  The barycentric correction and the time slice correction applied to the time reported by the Kepler spacecraft.',\n",
       "               'CADENCENO: Cadence number',\n",
       "               'PHASE: The phase using the period and epoch identified in the keywords, spanning from -1/4 P to 3/4 P. The transit occurs at zero P.',\n",
       "               'LC_INIT: The initial light curve which has been quarter-stitched, harmonic-removed and has a mean of zero.',\n",
       "               'LC_INIT_ERR:  The estimated uncertainty on LC_INIT.',\n",
       "               'LC_WHITE: LC_INIT with the whitening filter applied.  This is the light curve searched by TPS to find this TCE.',\n",
       "               'LC_DETREND: The quarter-stitched, median detrended, relative-flux light curve, as shown in the one page summary reports.',\n",
       "               'MODEL INIT: The transit model calculated for the initial light curve.',\n",
       "               'MODEL WHITE: The whitened transit model calculated for the whitened light curve.',\n",
       "               'This file was produced by the NASA Exoplanet Archive  http://exoplanetarchive.ipac.caltech.edu',\n",
       "               'Thu Apr 28, 12:52:59 2016',\n",
       "               'Documentation for the Kepler Mission dataset can be found at http://exoplanetarchive.ipac.caltech.edu/docs/KeplerDV.html']),\n",
       "             ('keywords',\n",
       "              OrderedDict([('ORIGIN', {'value': 'NASA/Ames'}),\n",
       "                           ('DATE', {'value': '2016-03-01'}),\n",
       "                           ('CREATOR',\n",
       "                            {'value': '1165240 DvTimeSeriesExporter2PipelineModule'}),\n",
       "                           ('PROCVER',\n",
       "                            {'value': 'svn+ssh://murzim/repo/soc/tags/release/9.3.43 r61051'}),\n",
       "                           ('FILEVER', {'value': '2.0     '}),\n",
       "                           ('TIMVERSN', {'value': 'OGIP/93-003'}),\n",
       "                           ('TELESCOP', {'value': 'Kepler  Kepler  '}),\n",
       "                           ('INSTRUME',\n",
       "                            {'value': 'Kepler PhotometerKepler Photometer'}),\n",
       "                           ('OBJECT', {'value': 'KIC 1026957KIC 1026957'}),\n",
       "                           ('KEPLERID', {'value': 1026957}),\n",
       "                           ('SKYGROUP', {'value': 84}),\n",
       "                           ('DATA_REL', {'value': 25}),\n",
       "                           ('OBSMODE', {'value': 'long cadence'}),\n",
       "                           ('MISSION', {'value': 'Kepler  '}),\n",
       "                           ('RADESYS', {'value': 'ICRS    ICRS    '}),\n",
       "                           ('RA_OBJ', {'value': 291.25449}),\n",
       "                           ('DEC_OBJ', {'value': 36.74361}),\n",
       "                           ('EQUINOX', {'value': 2000.0}),\n",
       "                           ('PMRA', {'value': -0.0066}),\n",
       "                           ('PMDEC', {'value': -0.0274}),\n",
       "                           ('PMTOTAL', {'value': 0.0282}),\n",
       "                           ('PARALLAX', {'value': ''}),\n",
       "                           ('GLON', {'value': 69.393381}),\n",
       "                           ('GLAT', {'value': 9.710244}),\n",
       "                           ('GMAG', {'value': 13.299}),\n",
       "                           ('RMAG', {'value': 12.52}),\n",
       "                           ('IMAG', {'value': 12.241}),\n",
       "                           ('ZMAG', {'value': 12.05}),\n",
       "                           ('D51MAG', {'value': 13.164}),\n",
       "                           ('JMAG', {'value': 10.981}),\n",
       "                           ('HMAG', {'value': 10.474}),\n",
       "                           ('KMAG', {'value': 10.41}),\n",
       "                           ('KEPMAG', {'value': 12.559}),\n",
       "                           ('GRCOLOR', {'value': 0.779}),\n",
       "                           ('JKCOLOR', {'value': 0.571}),\n",
       "                           ('GKCOLOR', {'value': 2.889}),\n",
       "                           ('TEFF', {'value': 4859}),\n",
       "                           ('LOGG', {'value': 4.609}),\n",
       "                           ('FEH', {'value': 0.0}),\n",
       "                           ('EBMINUSV', {'value': 0.036}),\n",
       "                           ('AV', {'value': 0.112}),\n",
       "                           ('RADIUS', {'value': 0.723}),\n",
       "                           ('TMINDEX', {'value': 268098820}),\n",
       "                           ('SCPID', {'value': ''}),\n",
       "                           ('XMLSTR', {'value': 'kplr20160128150956_dv.xml'}),\n",
       "                           ('DVVERSN',\n",
       "                            {'value': 'svn+ssh://murzim/repo/soc/tags/release/9.3.42@60958'}),\n",
       "                           ('QUARTERS',\n",
       "                            {'value': '11111111111111111000000000000000'}),\n",
       "                           ('EXTVER', {'value': 1}),\n",
       "                           ('EXPOSURE', {'value': 1303.40142535}),\n",
       "                           ('TIMEREF', {'value': 'SOLARSYSTEM'}),\n",
       "                           ('TASSIGN', {'value': 'SPACECRAFT'}),\n",
       "                           ('TIMESYS', {'value': 'TDB     '}),\n",
       "                           ('BJDREFI', {'value': 2454833}),\n",
       "                           ('BJDREFF', {'value': 0.0}),\n",
       "                           ('TIMEUNIT', {'value': 'd       '}),\n",
       "                           ('TELAPSE', {'value': 1459.51195097}),\n",
       "                           ('LIVETIME', {'value': 1343.67766915}),\n",
       "                           ('TSTART', {'value': 131.49907358}),\n",
       "                           ('TSTOP', {'value': 1591.01102455}),\n",
       "                           ('LC_START', {'value': 54964.01099382}),\n",
       "                           ('LC_END', {'value': 56423.50115222}),\n",
       "                           ('DEADC', {'value': 0.92063492}),\n",
       "                           ('TIMEPIXR', {'value': 0.5}),\n",
       "                           ('TIERRELA', {'value': 5.78e-07}),\n",
       "                           ('TIERABSO', {'value': ''}),\n",
       "                           ('INT_TIME', {'value': 6.01980290327}),\n",
       "                           ('READTIME', {'value': 0.518948526144}),\n",
       "                           ('FRAMETIM', {'value': 6.538751429414}),\n",
       "                           ('NUM_FRM', {'value': 270}),\n",
       "                           ('TIMEDEL', {'value': 0.02043359821692}),\n",
       "                           ('BACKAPP', {'value': 'T'}),\n",
       "                           ('DEADAPP', {'value': 'T'}),\n",
       "                           ('VIGNAPP', {'value': 'T'}),\n",
       "                           ('NREADOUT', {'value': 270}),\n",
       "                           ('CDPP3_0', {'value': 67.47241973876953}),\n",
       "                           ('CDPP6_0', {'value': 62.81351852416992}),\n",
       "                           ('CDPP12_0', {'value': 67.31521606445312}),\n",
       "                           ('TPERIOD', {'value': 21.76130161142322}),\n",
       "                           ('TEPOCH', {'value': 144.77894715741215}),\n",
       "                           ('TDEPTH', {'value': 1268.8594385187123}),\n",
       "                           ('TSNR', {'value': 97.07467651367188}),\n",
       "                           ('TDUR', {'value': 1.3327104880505716}),\n",
       "                           ('INDUR', {'value': 0.13906329691807098}),\n",
       "                           ('IMPACT', {'value': 0.8218333443675802}),\n",
       "                           ('INCLIN', {'value': 89.40387243578441}),\n",
       "                           ('DRRATIO', {'value': 78.99052900997626}),\n",
       "                           ('RADRATIO', {'value': 0.03747002036315882}),\n",
       "                           ('PRADIUS', {'value': 2.9439594358644454}),\n",
       "                           ('MAXMES', {'value': 96.2054443359375}),\n",
       "                           ('MAXSES', {'value': 19.203889846801758}),\n",
       "                           ('NTRANS', {'value': 62}),\n",
       "                           ('CONVRGE', {'value': 'T'}),\n",
       "                           ('MEDDETR', {'value': 6.860000133514404}),\n",
       "                           ('TCEPLANETNUM', {'value': 1}),\n",
       "                           ('NUMRECORDS', {'value': 71427}),\n",
       "                           ('ORBITALPERIOD', {'value': 21.7613}),\n",
       "                           ('TRANSITEPOCH', {'value': 144.779}),\n",
       "                           ('fixlen', {'value': 'T'})]))])"
      ]
     },
     "execution_count": 16,
     "metadata": {},
     "output_type": "execute_result"
    }
   ],
   "source": [
    "t.meta"
   ]
  },
  {
   "cell_type": "code",
   "execution_count": 37,
   "metadata": {},
   "outputs": [
    {
     "data": {
      "text/plain": [
       "{'value': 1026957}"
      ]
     },
     "execution_count": 37,
     "metadata": {},
     "output_type": "execute_result"
    }
   ],
   "source": [
    "t.meta['keywords']['KEPLERID']"
   ]
  },
  {
   "cell_type": "code",
   "execution_count": 38,
   "metadata": {},
   "outputs": [
    {
     "data": {
      "text/plain": [
       "{'value': 1}"
      ]
     },
     "execution_count": 38,
     "metadata": {},
     "output_type": "execute_result"
    }
   ],
   "source": [
    "t.meta['keywords']['TCEPLANETNUM']"
   ]
  },
  {
   "cell_type": "code",
   "execution_count": 39,
   "metadata": {},
   "outputs": [
    {
     "data": {
      "text/plain": [
       "{'value': 21.7613}"
      ]
     },
     "execution_count": 39,
     "metadata": {},
     "output_type": "execute_result"
    }
   ],
   "source": [
    "t.meta['keywords']['ORBITALPERIOD']"
   ]
  },
  {
   "cell_type": "code",
   "execution_count": 40,
   "metadata": {},
   "outputs": [
    {
     "data": {
      "text/plain": [
       "{'value': 144.779}"
      ]
     },
     "execution_count": 40,
     "metadata": {},
     "output_type": "execute_result"
    }
   ],
   "source": [
    "t.meta['keywords']['TRANSITEPOCH']"
   ]
  },
  {
   "cell_type": "code",
   "execution_count": 41,
   "metadata": {},
   "outputs": [],
   "source": [
    "t_df = t.to_pandas()"
   ]
  },
  {
   "cell_type": "code",
   "execution_count": 43,
   "metadata": {},
   "outputs": [
    {
     "data": {
      "text/html": [
       "<div>\n",
       "<table border=\"1\" class=\"dataframe\">\n",
       "  <thead>\n",
       "    <tr style=\"text-align: right;\">\n",
       "      <th></th>\n",
       "      <th>TIME</th>\n",
       "      <th>TIMECORR</th>\n",
       "      <th>CADENCENO</th>\n",
       "      <th>PHASE</th>\n",
       "      <th>LC_INIT</th>\n",
       "      <th>LC_INIT_ERR</th>\n",
       "      <th>LC_WHITE</th>\n",
       "      <th>LC_DETREND</th>\n",
       "      <th>MODEL_INIT</th>\n",
       "      <th>MODEL_WHITE</th>\n",
       "    </tr>\n",
       "  </thead>\n",
       "  <tbody>\n",
       "    <tr>\n",
       "      <th>0</th>\n",
       "      <td>131.512698</td>\n",
       "      <td>-0.001704</td>\n",
       "      <td>1105.0</td>\n",
       "      <td>8.495052</td>\n",
       "      <td>0.000772</td>\n",
       "      <td>0.000090</td>\n",
       "      <td>3.450936</td>\n",
       "      <td>0.000585</td>\n",
       "      <td>0.0</td>\n",
       "      <td>-0.000141</td>\n",
       "    </tr>\n",
       "    <tr>\n",
       "      <th>1</th>\n",
       "      <td>131.533132</td>\n",
       "      <td>-0.001705</td>\n",
       "      <td>1106.0</td>\n",
       "      <td>8.515487</td>\n",
       "      <td>0.000484</td>\n",
       "      <td>0.000091</td>\n",
       "      <td>1.359991</td>\n",
       "      <td>0.000174</td>\n",
       "      <td>0.0</td>\n",
       "      <td>-0.000141</td>\n",
       "    </tr>\n",
       "    <tr>\n",
       "      <th>2</th>\n",
       "      <td>131.553567</td>\n",
       "      <td>-0.001706</td>\n",
       "      <td>1107.0</td>\n",
       "      <td>8.535921</td>\n",
       "      <td>0.000534</td>\n",
       "      <td>0.000091</td>\n",
       "      <td>1.462187</td>\n",
       "      <td>0.000152</td>\n",
       "      <td>0.0</td>\n",
       "      <td>-0.000142</td>\n",
       "    </tr>\n",
       "  </tbody>\n",
       "</table>\n",
       "</div>"
      ],
      "text/plain": [
       "         TIME  TIMECORR  CADENCENO     PHASE   LC_INIT  LC_INIT_ERR  LC_WHITE  \\\n",
       "0  131.512698 -0.001704     1105.0  8.495052  0.000772     0.000090  3.450936   \n",
       "1  131.533132 -0.001705     1106.0  8.515487  0.000484     0.000091  1.359991   \n",
       "2  131.553567 -0.001706     1107.0  8.535921  0.000534     0.000091  1.462187   \n",
       "\n",
       "   LC_DETREND  MODEL_INIT  MODEL_WHITE  \n",
       "0    0.000585         0.0    -0.000141  \n",
       "1    0.000174         0.0    -0.000141  \n",
       "2    0.000152         0.0    -0.000142  "
      ]
     },
     "metadata": {},
     "output_type": "display_data"
    }
   ],
   "source": [
    "display(t_df.head(3))"
   ]
  },
  {
   "cell_type": "code",
   "execution_count": 45,
   "metadata": {},
   "outputs": [],
   "source": [
    "foldTimes = t_df.TIME.values / t.meta['keywords']['ORBITALPERIOD']['value']   # divide by period to convert to phase\n",
    "foldTimes = foldTimes % 1"
   ]
  },
  {
   "cell_type": "code",
   "execution_count": 49,
   "metadata": {},
   "outputs": [
    {
     "data": {
      "text/plain": [
       "<matplotlib.collections.PathCollection at 0x7fbe052036d8>"
      ]
     },
     "execution_count": 49,
     "metadata": {},
     "output_type": "execute_result"
    },
    {
     "data": {
      "image/png": "[encoded data removed]",
      "text/plain": [
       "<matplotlib.figure.Figure at 0x7fbe15055e48>"
      ]
     },
     "metadata": {},
     "output_type": "display_data"
    }
   ],
   "source": [
    "plt.scatter(foldTimes, t_df.MODEL_WHITE.values)\n",
    "plt.show()"
   ]
  },
  {
   "cell_type": "code",
   "execution_count": 50,
   "metadata": {},
   "outputs": [
    {
     "data": {
      "text/plain": [
       "array([ 0.04342102,  0.04436006,  0.04529909, ...,  0.10963163,\n",
       "        0.11057066,  0.1115097 ])"
      ]
     },
     "execution_count": 50,
     "metadata": {},
     "output_type": "execute_result"
    }
   ],
   "source": [
    "foldTimes"
   ]
  },
  {
   "cell_type": "code",
   "execution_count": null,
   "metadata": {
    "collapsed": true
   },
   "outputs": [],
   "source": []
  }
 ],
 "metadata": {
  "kernelspec": {
   "display_name": "Python [conda root]",
   "language": "python",
   "name": "conda-root-py"
  },
  "language_info": {
   "codemirror_mode": {
    "name": "ipython",
    "version": 3
   },
   "file_extension": ".py",
   "mimetype": "text/x-python",
   "name": "python",
   "nbconvert_exporter": "python",
   "pygments_lexer": "ipython3",
   "version": "3.5.2"
  }
 },
 "nbformat": 4,
 "nbformat_minor": 2
}
